{
 "cells": [
  {
   "cell_type": "markdown",
   "id": "d3a76645",
   "metadata": {},
   "source": [
    "## **<h1 align=\"center\"> Time-Series analysis _ Oil Index</h1>**\n",
    "\n",
    "\n",
    "## Table of Contents\n",
    "* [1 - Packages](#1)\n",
    "* [2 - Load Data](#2)\n",
    "* [3 - Data Preparation](#3)\n",
    "* [4 - Data visualization](#4)\n",
    "* [5 - Statitstical tests](#5)\n",
    "\n",
    "    * [5-1 Run the augmented Dickey-Fuller Test to confirm stationarity](#ex-1)\n",
    "    * [5 - 2 Run the ACF and PACF plots](#ex-2)\n",
    "\n",
    "* [6 - Time-series Models](#6)\n",
    "    * [6 -1 SARIMAX - Seasonal Autoregressive Integrated Moving Average Exogenou](#ex-3)\n",
    "    * [6 - 2 Time-Series Prediction Using RNN - LSTM](#ex-4)\n",
    "    * [6 - 3 Prophet Model](#ex-5)\n"
   ]
  },
  {
   "cell_type": "markdown",
   "id": "09ceb23e",
   "metadata": {},
   "source": [
    "<a name='1'></a>\n",
    "## 1 - Packages\n",
    "---"
   ]
  },
  {
   "cell_type": "code",
   "execution_count": 1,
   "id": "d5e61d76",
   "metadata": {},
   "outputs": [],
   "source": [
    "import pandas as pd\n",
    "import numpy as np\n",
    "import matplotlib as mpl\n",
    "import matplotlib.pyplot as plt\n",
    "%matplotlib inline\n",
    "\n",
    "from sklearn.metrics import mean_squared_error\n",
    "from sklearn.preprocessing import MinMaxScaler\n",
    "from numpy.random import seed\n",
    "seed(2)\n",
    "\n",
    "##### Load specific forecasting tools\n",
    "\n",
    "from statsmodels.tsa.statespace.sarimax import SARIMAX\n",
    "from statsmodels.graphics.tsaplots import plot_acf,plot_pacf # for determining (p,q) orders\n",
    "from statsmodels.tsa.seasonal import seasonal_decompose      # for ETS Plots\n",
    "from statsmodels.tools.eval_measures import rmse\n",
    "from pmdarima import auto_arima                              # for determining ARIMA orders\n",
    "\n",
    "from statsmodels.tsa.stattools import adfuller\n",
    "from statsmodels.tsa.statespace.tools import diff\n",
    "\n",
    "import tensorflow as tf\n",
    "from tensorflow import keras\n",
    "from tensorflow.keras.preprocessing.sequence import TimeseriesGenerator\n",
    "from tensorflow.keras.models import Sequential\n",
    "from tensorflow.keras.layers import Dense, LSTM, GRU, Dropout\n",
    "from tensorflow.keras.optimizers import SGD\n",
    "\n",
    "tf.random.set_seed(3)\n",
    "\n",
    "import pandas as pd\n",
    "from fbprophet import Prophet\n",
    "\n",
    "import warnings\n",
    "warnings.filterwarnings(\"ignore\")"
   ]
  },
  {
   "cell_type": "markdown",
   "id": "e333d4c3",
   "metadata": {},
   "source": [
    "<a name='2'></a>\n",
    "## 2 - Load Data\n",
    "----"
   ]
  },
  {
   "cell_type": "code",
   "execution_count": 2,
   "id": "c4a121cc",
   "metadata": {},
   "outputs": [
    {
     "data": {
      "text/html": [
       "<div>\n",
       "<style scoped>\n",
       "    .dataframe tbody tr th:only-of-type {\n",
       "        vertical-align: middle;\n",
       "    }\n",
       "\n",
       "    .dataframe tbody tr th {\n",
       "        vertical-align: top;\n",
       "    }\n",
       "\n",
       "    .dataframe thead th {\n",
       "        text-align: right;\n",
       "    }\n",
       "</style>\n",
       "<table border=\"1\" class=\"dataframe\">\n",
       "  <thead>\n",
       "    <tr style=\"text-align: right;\">\n",
       "      <th></th>\n",
       "      <th>Commodity</th>\n",
       "      <th>POILAPSP</th>\n",
       "    </tr>\n",
       "  </thead>\n",
       "  <tbody>\n",
       "    <tr>\n",
       "      <th>267</th>\n",
       "      <td>2012M1</td>\n",
       "      <td>225.891156</td>\n",
       "    </tr>\n",
       "    <tr>\n",
       "      <th>268</th>\n",
       "      <td>2012M2</td>\n",
       "      <td>236.120545</td>\n",
       "    </tr>\n",
       "    <tr>\n",
       "      <th>269</th>\n",
       "      <td>2012M3</td>\n",
       "      <td>248.161237</td>\n",
       "    </tr>\n",
       "    <tr>\n",
       "      <th>270</th>\n",
       "      <td>2012M4</td>\n",
       "      <td>239.28053</td>\n",
       "    </tr>\n",
       "    <tr>\n",
       "      <th>271</th>\n",
       "      <td>2012M5</td>\n",
       "      <td>220.830698</td>\n",
       "    </tr>\n",
       "  </tbody>\n",
       "</table>\n",
       "</div>"
      ],
      "text/plain": [
       "    Commodity    POILAPSP\n",
       "267    2012M1  225.891156\n",
       "268    2012M2  236.120545\n",
       "269    2012M3  248.161237\n",
       "270    2012M4   239.28053\n",
       "271    2012M5  220.830698"
      ]
     },
     "execution_count": 2,
     "metadata": {},
     "output_type": "execute_result"
    }
   ],
   "source": [
    "db = pd.read_excel(\"external-data-indices-onlyfebruary.xls\")\n",
    "df = db[[\"Commodity\", \"POILAPSP\"]].iloc[-121:]\n",
    "df.head()"
   ]
  },
  {
   "cell_type": "code",
   "execution_count": 3,
   "id": "444b77c2",
   "metadata": {},
   "outputs": [
    {
     "name": "stdout",
     "output_type": "stream",
     "text": [
      "<class 'pandas.core.frame.DataFrame'>\n",
      "RangeIndex: 121 entries, 267 to 387\n",
      "Data columns (total 2 columns):\n",
      " #   Column     Non-Null Count  Dtype \n",
      "---  ------     --------------  ----- \n",
      " 0   Commodity  121 non-null    object\n",
      " 1   POILAPSP   121 non-null    object\n",
      "dtypes: object(2)\n",
      "memory usage: 2.0+ KB\n"
     ]
    }
   ],
   "source": [
    "df.info()"
   ]
  },
  {
   "cell_type": "markdown",
   "id": "d7cb9be7",
   "metadata": {},
   "source": [
    "<a name='3'></a>\n",
    "## 3 - Data Preparation\n",
    "---"
   ]
  },
  {
   "cell_type": "code",
   "execution_count": 4,
   "id": "34beeb70",
   "metadata": {
    "scrolled": true
   },
   "outputs": [
    {
     "data": {
      "text/html": [
       "<div>\n",
       "<style scoped>\n",
       "    .dataframe tbody tr th:only-of-type {\n",
       "        vertical-align: middle;\n",
       "    }\n",
       "\n",
       "    .dataframe tbody tr th {\n",
       "        vertical-align: top;\n",
       "    }\n",
       "\n",
       "    .dataframe thead th {\n",
       "        text-align: right;\n",
       "    }\n",
       "</style>\n",
       "<table border=\"1\" class=\"dataframe\">\n",
       "  <thead>\n",
       "    <tr style=\"text-align: right;\">\n",
       "      <th></th>\n",
       "      <th>Oil_index</th>\n",
       "    </tr>\n",
       "    <tr>\n",
       "      <th>Date</th>\n",
       "      <th></th>\n",
       "    </tr>\n",
       "  </thead>\n",
       "  <tbody>\n",
       "    <tr>\n",
       "      <th>2012-01-01</th>\n",
       "      <td>225.891156</td>\n",
       "    </tr>\n",
       "    <tr>\n",
       "      <th>2012-02-01</th>\n",
       "      <td>236.120545</td>\n",
       "    </tr>\n",
       "    <tr>\n",
       "      <th>2012-03-01</th>\n",
       "      <td>248.161237</td>\n",
       "    </tr>\n",
       "    <tr>\n",
       "      <th>2012-04-01</th>\n",
       "      <td>239.280530</td>\n",
       "    </tr>\n",
       "    <tr>\n",
       "      <th>2012-05-01</th>\n",
       "      <td>220.830698</td>\n",
       "    </tr>\n",
       "  </tbody>\n",
       "</table>\n",
       "</div>"
      ],
      "text/plain": [
       "             Oil_index\n",
       "Date                  \n",
       "2012-01-01  225.891156\n",
       "2012-02-01  236.120545\n",
       "2012-03-01  248.161237\n",
       "2012-04-01  239.280530\n",
       "2012-05-01  220.830698"
      ]
     },
     "execution_count": 4,
     "metadata": {},
     "output_type": "execute_result"
    }
   ],
   "source": [
    "df['Oil_index'] = df['POILAPSP'].astype('float')\n",
    "df['Commodity'] = df['Commodity'].str.replace(\"M\", \"-\") + '-1'\n",
    "df['Date'] = pd.to_datetime(df['Commodity'])\n",
    "df = df[['Date', 'Oil_index']]\n",
    "df.set_index('Date',inplace=True)\n",
    "df.index.freq = 'MS'\n",
    "df.head()"
   ]
  },
  {
   "cell_type": "markdown",
   "id": "707fa8cf",
   "metadata": {},
   "source": [
    "<a name='4'></a>\n",
    "## 4 - Data visualization\n",
    "----"
   ]
  },
  {
   "cell_type": "code",
   "execution_count": 5,
   "id": "ce141a03",
   "metadata": {},
   "outputs": [
    {
     "data": {
      "image/png": "[encoded data removed]",
      "text/plain": [
       "<Figure size 1152x432 with 1 Axes>"
      ]
     },
     "metadata": {
      "needs_background": "light"
     },
     "output_type": "display_data"
    },
    {
     "data": {
      "text/plain": [
       "<Figure size 432x288 with 0 Axes>"
      ]
     },
     "metadata": {},
     "output_type": "display_data"
    }
   ],
   "source": [
    "plt.figure(figsize = (16,6))\n",
    "\n",
    "mpl.rcParams['axes.spines.right'] = False\n",
    "mpl.rcParams['axes.spines.top'] = False\n",
    "\n",
    "plt.plot(df['Oil_index'], lw = 2)\n",
    "plt.title('Monthly Oil Index', fontsize=16)\n",
    "plt.xlabel('Release Year', fontsize=14)\n",
    "plt.grid(True)\n",
    "plt.figure()\n",
    "plt.show()"
   ]
  },
  {
   "cell_type": "markdown",
   "id": "28b1bfd7",
   "metadata": {},
   "source": [
    "<a name='5'></a>\n",
    "## 5 - Statitstical tests"
   ]
  },
  {
   "cell_type": "code",
   "execution_count": 6,
   "id": "f1216023",
   "metadata": {},
   "outputs": [],
   "source": [
    "def adf_test(series,title=''):\n",
    "    \"\"\"\n",
    "    Pass in a time series and an optional title, returns an ADF report\n",
    "    \"\"\"\n",
    "    print(f'Augmented Dickey-Fuller Test: {title}')\n",
    "    result = adfuller(series.dropna(),autolag='AIC') # .dropna() handles differenced data\n",
    "    \n",
    "    labels = ['ADF test statistic','p-value','# lags used','# observations']\n",
    "    out = pd.Series(result[0:4],index=labels)\n",
    "\n",
    "    for key,val in result[4].items():\n",
    "        out[f'critical value ({key})']=val\n",
    "        \n",
    "    print(out.to_string())          # .to_string() removes the line \"dtype: float64\"\n",
    "    \n",
    "    if result[1] <= 0.05:\n",
    "        print(\"---------------------------------------------\\n\")\n",
    "        print(\"Strong evidence against the null hypothesis\")\n",
    "        print(\"Reject the null hypothesis\")\n",
    "        print(\"Data has no unit root and is stationary\")\n",
    "    else:\n",
    "        print(\"---------------------------------------------\\n\")\n",
    "        print(\"Weak evidence against the null hypothesis\")\n",
    "        print(\"Fail to reject the null hypothesis\")\n",
    "        print(\"Data has a unit root and is non-stationary\")"
   ]
  },
  {
   "cell_type": "markdown",
   "id": "907137f7",
   "metadata": {},
   "source": [
    "<a name='ex-1'></a>\n",
    "### 5-1 Run the augmented Dickey-Fuller Test to confirm stationarity"
   ]
  },
  {
   "cell_type": "code",
   "execution_count": 7,
   "id": "0839d07f",
   "metadata": {},
   "outputs": [
    {
     "name": "stdout",
     "output_type": "stream",
     "text": [
      "Augmented Dickey-Fuller Test: \n",
      "ADF test statistic       -2.028450\n",
      "p-value                   0.274240\n",
      "# lags used               2.000000\n",
      "# observations          118.000000\n",
      "critical value (1%)      -3.487022\n",
      "critical value (5%)      -2.886363\n",
      "critical value (10%)     -2.580009\n",
      "---------------------------------------------\n",
      "\n",
      "Weak evidence against the null hypothesis\n",
      "Fail to reject the null hypothesis\n",
      "Data has a unit root and is non-stationary\n"
     ]
    }
   ],
   "source": [
    "adf_test(df['Oil_index'])"
   ]
  },
  {
   "cell_type": "code",
   "execution_count": 8,
   "id": "1ec2cca6",
   "metadata": {
    "scrolled": true
   },
   "outputs": [
    {
     "data": {
      "image/png": "[encoded data removed]",
      "text/plain": [
       "<Figure size 432x288 with 4 Axes>"
      ]
     },
     "metadata": {
      "needs_background": "light"
     },
     "output_type": "display_data"
    }
   ],
   "source": [
    "result = seasonal_decompose(df['Oil_index'], model='add')\n",
    "result.plot();"
   ]
  },
  {
   "cell_type": "markdown",
   "id": "8ca92ccf",
   "metadata": {},
   "source": [
    "#### Run the augmented Dickey-Fuller Test on the First Difference  "
   ]
  },
  {
   "cell_type": "code",
   "execution_count": 9,
   "id": "a48a7c56",
   "metadata": {},
   "outputs": [
    {
     "name": "stdout",
     "output_type": "stream",
     "text": [
      "Augmented Dickey-Fuller Test: Real Oil_index\n",
      "ADF test statistic     -8.000628e+00\n",
      "p-value                 2.339241e-12\n",
      "# lags used             1.000000e+00\n",
      "# observations          1.180000e+02\n",
      "critical value (1%)    -3.487022e+00\n",
      "critical value (5%)    -2.886363e+00\n",
      "critical value (10%)   -2.580009e+00\n",
      "---------------------------------------------\n",
      "\n",
      "Strong evidence against the null hypothesis\n",
      "Reject the null hypothesis\n",
      "Data has no unit root and is stationary\n"
     ]
    }
   ],
   "source": [
    "df['d1'] = diff(df['Oil_index'],k_diff=1)\n",
    "\n",
    "# Equivalent to:\n",
    "# df['d1'] = df['Oil_index'] - df['Oil_index'].shift(1)\n",
    "\n",
    "adf_test(df['d1'],'Real Oil_index')"
   ]
  },
  {
   "cell_type": "markdown",
   "id": "e2ada053",
   "metadata": {},
   "source": [
    "This confirms that we reached stationarity after the first difference.\n",
    "<a name='ex-2'></a>\n",
    "### 5 - 2 Run the ACF and PACF plots\n",
    "A <strong>PACF Plot</strong> can reveal recommended AR(p) orders, and an <strong>ACF Plot</strong> can do the same for MA(q) orders.<br>\n",
    "Alternatively, we can compare the stepwise <a href='https://en.wikipedia.org/wiki/Akaike_information_criterion'>Akaike Information Criterion (AIC)</a> values across a set of different (p,q) combinations to choose the best combination.  "
   ]
  },
  {
   "cell_type": "code",
   "execution_count": 10,
   "id": "b3ea3d5e",
   "metadata": {
    "scrolled": true
   },
   "outputs": [
    {
     "data": {
      "image/png": "[encoded data removed]",
      "text/plain": [
       "<Figure size 432x288 with 1 Axes>"
      ]
     },
     "metadata": {
      "needs_background": "light"
     },
     "output_type": "display_data"
    }
   ],
   "source": [
    "title = 'Autocorrelation: Real Oil_index'\n",
    "lags = 40\n",
    "plot_acf(df['Oil_index'],title=title,lags=lags);"
   ]
  },
  {
   "cell_type": "code",
   "execution_count": 11,
   "id": "f5f1c707",
   "metadata": {},
   "outputs": [
    {
     "data": {
      "image/png": "[encoded data removed]",
      "text/plain": [
       "<Figure size 432x288 with 1 Axes>"
      ]
     },
     "metadata": {
      "needs_background": "light"
     },
     "output_type": "display_data"
    }
   ],
   "source": [
    "title = 'Partial Autocorrelation: Real Oil_index'\n",
    "lags = 40\n",
    "plot_pacf(df['Oil_index'],title=title,lags=lags);"
   ]
  },
  {
   "cell_type": "markdown",
   "id": "35dc0539",
   "metadata": {},
   "source": [
    "<a name='6'></a>\n",
    "## 6 - Time-series Models\n",
    "---"
   ]
  },
  {
   "cell_type": "markdown",
   "id": "849ac2cb",
   "metadata": {},
   "source": [
    "<a name='ex-3'></a>\n",
    "### 6 -1 SARIMAX - Seasonal Autoregressive Integrated Moving Average Exogenou"
   ]
  },
  {
   "cell_type": "markdown",
   "id": "1180dfba",
   "metadata": {},
   "source": [
    "Let's take a look at <tt>pmdarima.auto_arima</tt> done stepwise to see if having $p$ and $q$ terms the same still makes sense:"
   ]
  },
  {
   "cell_type": "code",
   "execution_count": 12,
   "id": "76f77cbd",
   "metadata": {},
   "outputs": [
    {
     "name": "stdout",
     "output_type": "stream",
     "text": [
      "Performing stepwise search to minimize aic\n",
      " ARIMA(0,1,0)(1,0,1)[12] intercept   : AIC=inf, Time=0.32 sec\n",
      " ARIMA(0,1,0)(0,0,0)[12] intercept   : AIC=949.294, Time=0.01 sec\n",
      " ARIMA(1,1,0)(1,0,0)[12] intercept   : AIC=939.292, Time=0.17 sec\n",
      " ARIMA(0,1,1)(0,0,1)[12] intercept   : AIC=934.303, Time=0.18 sec\n",
      " ARIMA(0,1,0)(0,0,0)[12]             : AIC=947.347, Time=0.01 sec\n",
      " ARIMA(0,1,1)(0,0,0)[12] intercept   : AIC=932.384, Time=0.07 sec\n",
      " ARIMA(0,1,1)(1,0,0)[12] intercept   : AIC=934.314, Time=0.15 sec\n",
      " ARIMA(0,1,1)(1,0,1)[12] intercept   : AIC=936.092, Time=0.33 sec\n",
      " ARIMA(1,1,1)(0,0,0)[12] intercept   : AIC=934.383, Time=0.07 sec\n",
      " ARIMA(0,1,2)(0,0,0)[12] intercept   : AIC=934.382, Time=0.12 sec\n",
      " ARIMA(1,1,0)(0,0,0)[12] intercept   : AIC=937.313, Time=0.07 sec\n",
      " ARIMA(1,1,2)(0,0,0)[12] intercept   : AIC=935.394, Time=0.14 sec\n",
      " ARIMA(0,1,1)(0,0,0)[12]             : AIC=930.393, Time=0.03 sec\n",
      " ARIMA(0,1,1)(1,0,0)[12]             : AIC=932.326, Time=0.07 sec\n",
      " ARIMA(0,1,1)(0,0,1)[12]             : AIC=932.316, Time=0.06 sec\n",
      " ARIMA(0,1,1)(1,0,1)[12]             : AIC=934.108, Time=0.20 sec\n",
      " ARIMA(1,1,1)(0,0,0)[12]             : AIC=932.392, Time=0.05 sec\n",
      " ARIMA(0,1,2)(0,0,0)[12]             : AIC=932.390, Time=0.04 sec\n",
      " ARIMA(1,1,0)(0,0,0)[12]             : AIC=935.318, Time=0.03 sec\n",
      " ARIMA(1,1,2)(0,0,0)[12]             : AIC=933.425, Time=0.09 sec\n",
      "\n",
      "Best model:  ARIMA(0,1,1)(0,0,0)[12]          \n",
      "Total fit time: 2.239 seconds\n"
     ]
    },
    {
     "data": {
      "text/html": [
       "<table class=\"simpletable\">\n",
       "<caption>SARIMAX Results</caption>\n",
       "<tr>\n",
       "  <th>Dep. Variable:</th>           <td>y</td>        <th>  No. Observations:  </th>    <td>121</td>  \n",
       "</tr>\n",
       "<tr>\n",
       "  <th>Model:</th>           <td>SARIMAX(0, 1, 1)</td> <th>  Log Likelihood     </th> <td>-463.197</td>\n",
       "</tr>\n",
       "<tr>\n",
       "  <th>Date:</th>            <td>Fri, 22 Apr 2022</td> <th>  AIC                </th>  <td>930.393</td>\n",
       "</tr>\n",
       "<tr>\n",
       "  <th>Time:</th>                <td>16:31:25</td>     <th>  BIC                </th>  <td>935.968</td>\n",
       "</tr>\n",
       "<tr>\n",
       "  <th>Sample:</th>                  <td>0</td>        <th>  HQIC               </th>  <td>932.657</td>\n",
       "</tr>\n",
       "<tr>\n",
       "  <th></th>                      <td> - 121</td>      <th>                     </th>     <td> </td>   \n",
       "</tr>\n",
       "<tr>\n",
       "  <th>Covariance Type:</th>        <td>opg</td>       <th>                     </th>     <td> </td>   \n",
       "</tr>\n",
       "</table>\n",
       "<table class=\"simpletable\">\n",
       "<tr>\n",
       "     <td></td>       <th>coef</th>     <th>std err</th>      <th>z</th>      <th>P>|z|</th>  <th>[0.025</th>    <th>0.975]</th>  \n",
       "</tr>\n",
       "<tr>\n",
       "  <th>ma.L1</th>  <td>    0.4228</td> <td>    0.088</td> <td>    4.805</td> <td> 0.000</td> <td>    0.250</td> <td>    0.595</td>\n",
       "</tr>\n",
       "<tr>\n",
       "  <th>sigma2</th> <td>  131.6872</td> <td>   13.641</td> <td>    9.654</td> <td> 0.000</td> <td>  104.952</td> <td>  158.423</td>\n",
       "</tr>\n",
       "</table>\n",
       "<table class=\"simpletable\">\n",
       "<tr>\n",
       "  <th>Ljung-Box (L1) (Q):</th>     <td>0.00</td> <th>  Jarque-Bera (JB):  </th> <td>12.63</td>\n",
       "</tr>\n",
       "<tr>\n",
       "  <th>Prob(Q):</th>                <td>0.97</td> <th>  Prob(JB):          </th> <td>0.00</td> \n",
       "</tr>\n",
       "<tr>\n",
       "  <th>Heteroskedasticity (H):</th> <td>1.49</td> <th>  Skew:              </th> <td>-0.42</td>\n",
       "</tr>\n",
       "<tr>\n",
       "  <th>Prob(H) (two-sided):</th>    <td>0.21</td> <th>  Kurtosis:          </th> <td>4.34</td> \n",
       "</tr>\n",
       "</table><br/><br/>Warnings:<br/>[1] Covariance matrix calculated using the outer product of gradients (complex-step)."
      ],
      "text/plain": [
       "<class 'statsmodels.iolib.summary.Summary'>\n",
       "\"\"\"\n",
       "                               SARIMAX Results                                \n",
       "==============================================================================\n",
       "Dep. Variable:                      y   No. Observations:                  121\n",
       "Model:               SARIMAX(0, 1, 1)   Log Likelihood                -463.197\n",
       "Date:                Fri, 22 Apr 2022   AIC                            930.393\n",
       "Time:                        16:31:25   BIC                            935.968\n",
       "Sample:                             0   HQIC                           932.657\n",
       "                                - 121                                         \n",
       "Covariance Type:                  opg                                         \n",
       "==============================================================================\n",
       "                 coef    std err          z      P>|z|      [0.025      0.975]\n",
       "------------------------------------------------------------------------------\n",
       "ma.L1          0.4228      0.088      4.805      0.000       0.250       0.595\n",
       "sigma2       131.6872     13.641      9.654      0.000     104.952     158.423\n",
       "===================================================================================\n",
       "Ljung-Box (L1) (Q):                   0.00   Jarque-Bera (JB):                12.63\n",
       "Prob(Q):                              0.97   Prob(JB):                         0.00\n",
       "Heteroskedasticity (H):               1.49   Skew:                            -0.42\n",
       "Prob(H) (two-sided):                  0.21   Kurtosis:                         4.34\n",
       "===================================================================================\n",
       "\n",
       "Warnings:\n",
       "[1] Covariance matrix calculated using the outer product of gradients (complex-step).\n",
       "\"\"\""
      ]
     },
     "execution_count": 12,
     "metadata": {},
     "output_type": "execute_result"
    }
   ],
   "source": [
    "stepwise_fit = auto_arima(df['Oil_index'], start_p=0, start_q=0,\n",
    "                          max_p=4, max_q=4, m=12,\n",
    "                          seasonal=True,\n",
    "                          d=None, trace=True,\n",
    "                          error_action='ignore',   # we don't want to know if an order does not work\n",
    "                          suppress_warnings=True,  # we don't want convergence warnings\n",
    "                          stepwise=True)           # set to stepwise\n",
    "\n",
    "stepwise_fit.summary()"
   ]
  },
  {
   "cell_type": "code",
   "execution_count": 13,
   "id": "a7eb9196",
   "metadata": {},
   "outputs": [
    {
     "data": {
      "text/html": [
       "<table class=\"simpletable\">\n",
       "<caption>SARIMAX Results</caption>\n",
       "<tr>\n",
       "  <th>Dep. Variable:</th>           <td>y</td>        <th>  No. Observations:  </th>    <td>121</td>  \n",
       "</tr>\n",
       "<tr>\n",
       "  <th>Model:</th>           <td>SARIMAX(0, 1, 1)</td> <th>  Log Likelihood     </th> <td>-463.197</td>\n",
       "</tr>\n",
       "<tr>\n",
       "  <th>Date:</th>            <td>Fri, 22 Apr 2022</td> <th>  AIC                </th>  <td>930.393</td>\n",
       "</tr>\n",
       "<tr>\n",
       "  <th>Time:</th>                <td>16:31:27</td>     <th>  BIC                </th>  <td>935.968</td>\n",
       "</tr>\n",
       "<tr>\n",
       "  <th>Sample:</th>                  <td>0</td>        <th>  HQIC               </th>  <td>932.657</td>\n",
       "</tr>\n",
       "<tr>\n",
       "  <th></th>                      <td> - 121</td>      <th>                     </th>     <td> </td>   \n",
       "</tr>\n",
       "<tr>\n",
       "  <th>Covariance Type:</th>        <td>opg</td>       <th>                     </th>     <td> </td>   \n",
       "</tr>\n",
       "</table>\n",
       "<table class=\"simpletable\">\n",
       "<tr>\n",
       "     <td></td>       <th>coef</th>     <th>std err</th>      <th>z</th>      <th>P>|z|</th>  <th>[0.025</th>    <th>0.975]</th>  \n",
       "</tr>\n",
       "<tr>\n",
       "  <th>ma.L1</th>  <td>    0.4228</td> <td>    0.088</td> <td>    4.805</td> <td> 0.000</td> <td>    0.250</td> <td>    0.595</td>\n",
       "</tr>\n",
       "<tr>\n",
       "  <th>sigma2</th> <td>  131.6872</td> <td>   13.641</td> <td>    9.654</td> <td> 0.000</td> <td>  104.952</td> <td>  158.423</td>\n",
       "</tr>\n",
       "</table>\n",
       "<table class=\"simpletable\">\n",
       "<tr>\n",
       "  <th>Ljung-Box (L1) (Q):</th>     <td>0.00</td> <th>  Jarque-Bera (JB):  </th> <td>12.63</td>\n",
       "</tr>\n",
       "<tr>\n",
       "  <th>Prob(Q):</th>                <td>0.97</td> <th>  Prob(JB):          </th> <td>0.00</td> \n",
       "</tr>\n",
       "<tr>\n",
       "  <th>Heteroskedasticity (H):</th> <td>1.49</td> <th>  Skew:              </th> <td>-0.42</td>\n",
       "</tr>\n",
       "<tr>\n",
       "  <th>Prob(H) (two-sided):</th>    <td>0.21</td> <th>  Kurtosis:          </th> <td>4.34</td> \n",
       "</tr>\n",
       "</table><br/><br/>Warnings:<br/>[1] Covariance matrix calculated using the outer product of gradients (complex-step)."
      ],
      "text/plain": [
       "<class 'statsmodels.iolib.summary.Summary'>\n",
       "\"\"\"\n",
       "                               SARIMAX Results                                \n",
       "==============================================================================\n",
       "Dep. Variable:                      y   No. Observations:                  121\n",
       "Model:               SARIMAX(0, 1, 1)   Log Likelihood                -463.197\n",
       "Date:                Fri, 22 Apr 2022   AIC                            930.393\n",
       "Time:                        16:31:27   BIC                            935.968\n",
       "Sample:                             0   HQIC                           932.657\n",
       "                                - 121                                         \n",
       "Covariance Type:                  opg                                         \n",
       "==============================================================================\n",
       "                 coef    std err          z      P>|z|      [0.025      0.975]\n",
       "------------------------------------------------------------------------------\n",
       "ma.L1          0.4228      0.088      4.805      0.000       0.250       0.595\n",
       "sigma2       131.6872     13.641      9.654      0.000     104.952     158.423\n",
       "===================================================================================\n",
       "Ljung-Box (L1) (Q):                   0.00   Jarque-Bera (JB):                12.63\n",
       "Prob(Q):                              0.97   Prob(JB):                         0.00\n",
       "Heteroskedasticity (H):               1.49   Skew:                            -0.42\n",
       "Prob(H) (two-sided):                  0.21   Kurtosis:                         4.34\n",
       "===================================================================================\n",
       "\n",
       "Warnings:\n",
       "[1] Covariance matrix calculated using the outer product of gradients (complex-step).\n",
       "\"\"\""
      ]
     },
     "execution_count": 13,
     "metadata": {},
     "output_type": "execute_result"
    }
   ],
   "source": [
    "# Alternativly we could check and verify automaticcaly orders with auto_arima\n",
    "# For SARIMA Orders we set seasonal=True and pass in an m value\n",
    "auto_arima(df['Oil_index'], seasonal=True, m=12).summary()"
   ]
  },
  {
   "cell_type": "code",
   "execution_count": 14,
   "id": "45a0d2c7",
   "metadata": {},
   "outputs": [],
   "source": [
    "##### Spilit data to train- and testset \n",
    "\n",
    "train = df[ :108]\n",
    "test = df[108: ]"
   ]
  },
  {
   "cell_type": "code",
   "execution_count": 15,
   "id": "0326ef60",
   "metadata": {},
   "outputs": [
    {
     "data": {
      "text/html": [
       "<table class=\"simpletable\">\n",
       "<caption>SARIMAX Results</caption>\n",
       "<tr>\n",
       "  <th>Dep. Variable:</th>       <td>Oil_index</td>    <th>  No. Observations:  </th>    <td>108</td>  \n",
       "</tr>\n",
       "<tr>\n",
       "  <th>Model:</th>           <td>SARIMAX(0, 1, 1)</td> <th>  Log Likelihood     </th> <td>-411.675</td>\n",
       "</tr>\n",
       "<tr>\n",
       "  <th>Date:</th>            <td>Fri, 22 Apr 2022</td> <th>  AIC                </th>  <td>827.350</td>\n",
       "</tr>\n",
       "<tr>\n",
       "  <th>Time:</th>                <td>16:31:27</td>     <th>  BIC                </th>  <td>832.696</td>\n",
       "</tr>\n",
       "<tr>\n",
       "  <th>Sample:</th>             <td>01-01-2012</td>    <th>  HQIC               </th>  <td>829.517</td>\n",
       "</tr>\n",
       "<tr>\n",
       "  <th></th>                   <td>- 12-01-2020</td>   <th>                     </th>     <td> </td>   \n",
       "</tr>\n",
       "<tr>\n",
       "  <th>Covariance Type:</th>        <td>opg</td>       <th>                     </th>     <td> </td>   \n",
       "</tr>\n",
       "</table>\n",
       "<table class=\"simpletable\">\n",
       "<tr>\n",
       "     <td></td>       <th>coef</th>     <th>std err</th>      <th>z</th>      <th>P>|z|</th>  <th>[0.025</th>    <th>0.975]</th>  \n",
       "</tr>\n",
       "<tr>\n",
       "  <th>ma.L1</th>  <td>    0.4082</td> <td>    0.092</td> <td>    4.453</td> <td> 0.000</td> <td>    0.229</td> <td>    0.588</td>\n",
       "</tr>\n",
       "<tr>\n",
       "  <th>sigma2</th> <td>  128.4176</td> <td>   13.793</td> <td>    9.310</td> <td> 0.000</td> <td>  101.383</td> <td>  155.452</td>\n",
       "</tr>\n",
       "</table>\n",
       "<table class=\"simpletable\">\n",
       "<tr>\n",
       "  <th>Ljung-Box (L1) (Q):</th>     <td>0.05</td> <th>  Jarque-Bera (JB):  </th> <td>15.86</td>\n",
       "</tr>\n",
       "<tr>\n",
       "  <th>Prob(Q):</th>                <td>0.83</td> <th>  Prob(JB):          </th> <td>0.00</td> \n",
       "</tr>\n",
       "<tr>\n",
       "  <th>Heteroskedasticity (H):</th> <td>1.50</td> <th>  Skew:              </th> <td>-0.57</td>\n",
       "</tr>\n",
       "<tr>\n",
       "  <th>Prob(H) (two-sided):</th>    <td>0.23</td> <th>  Kurtosis:          </th> <td>4.50</td> \n",
       "</tr>\n",
       "</table><br/><br/>Warnings:<br/>[1] Covariance matrix calculated using the outer product of gradients (complex-step)."
      ],
      "text/plain": [
       "<class 'statsmodels.iolib.summary.Summary'>\n",
       "\"\"\"\n",
       "                               SARIMAX Results                                \n",
       "==============================================================================\n",
       "Dep. Variable:              Oil_index   No. Observations:                  108\n",
       "Model:               SARIMAX(0, 1, 1)   Log Likelihood                -411.675\n",
       "Date:                Fri, 22 Apr 2022   AIC                            827.350\n",
       "Time:                        16:31:27   BIC                            832.696\n",
       "Sample:                    01-01-2012   HQIC                           829.517\n",
       "                         - 12-01-2020                                         \n",
       "Covariance Type:                  opg                                         \n",
       "==============================================================================\n",
       "                 coef    std err          z      P>|z|      [0.025      0.975]\n",
       "------------------------------------------------------------------------------\n",
       "ma.L1          0.4082      0.092      4.453      0.000       0.229       0.588\n",
       "sigma2       128.4176     13.793      9.310      0.000     101.383     155.452\n",
       "===================================================================================\n",
       "Ljung-Box (L1) (Q):                   0.05   Jarque-Bera (JB):                15.86\n",
       "Prob(Q):                              0.83   Prob(JB):                         0.00\n",
       "Heteroskedasticity (H):               1.50   Skew:                            -0.57\n",
       "Prob(H) (two-sided):                  0.23   Kurtosis:                         4.50\n",
       "===================================================================================\n",
       "\n",
       "Warnings:\n",
       "[1] Covariance matrix calculated using the outer product of gradients (complex-step).\n",
       "\"\"\""
      ]
     },
     "execution_count": 15,
     "metadata": {},
     "output_type": "execute_result"
    }
   ],
   "source": [
    "model = SARIMAX(train['Oil_index'],order=(0,1,1))\n",
    "results = model.fit()\n",
    "results.summary()"
   ]
  },
  {
   "cell_type": "code",
   "execution_count": 16,
   "id": "2c5fe3bc",
   "metadata": {},
   "outputs": [
    {
     "name": "stdout",
     "output_type": "stream",
     "text": [
      "predicted=114.6487029, expected=120.320422223982\n",
      "predicted=114.6487029, expected=136.26020107953653\n",
      "predicted=114.6487029, expected=145.10139058412366\n",
      "predicted=114.6487029, expected=142.87314612498395\n",
      "predicted=114.6487029, expected=149.6528232235643\n",
      "predicted=114.6487029, expected=162.28400207786768\n",
      "predicted=114.6487029, expected=167.07551011026038\n",
      "predicted=114.6487029, expected=157.22536986356013\n",
      "predicted=114.6487029, expected=166.18058689112854\n",
      "predicted=114.6487029, expected=188.4750012714206\n",
      "predicted=114.6487029, expected=184.63902954157263\n",
      "predicted=114.6487029, expected=169.4092247905264\n",
      "predicted=114.6487029, expected=194.54896148005847\n"
     ]
    }
   ],
   "source": [
    "# Obtain predicted values\n",
    "start=len(train)\n",
    "end=len(train)+len(test)-1\n",
    "predictions = results.predict(start=start, end=end, dynamic=False, typ='levels').rename('SARIMA(0,1,1) Predictions')\n",
    "\n",
    "# Compare predictions to expected values\n",
    "for i in range(len(predictions)):\n",
    "    print(f\"predicted={predictions[i]:<11.10}, expected={test['Oil_index'][i]}\")"
   ]
  },
  {
   "cell_type": "code",
   "execution_count": 17,
   "id": "ae64e6f4",
   "metadata": {},
   "outputs": [
    {
     "data": {
      "image/png": "[encoded data removed]",
      "text/plain": [
       "<Figure size 1152x432 with 1 Axes>"
      ]
     },
     "metadata": {
      "needs_background": "light"
     },
     "output_type": "display_data"
    },
    {
     "data": {
      "text/plain": [
       "<Figure size 432x288 with 0 Axes>"
      ]
     },
     "metadata": {},
     "output_type": "display_data"
    }
   ],
   "source": [
    "plt.figure(figsize = (16,6))\n",
    "\n",
    "mpl.rcParams['axes.spines.right'] = False\n",
    "mpl.rcParams['axes.spines.top'] = False\n",
    "\n",
    "plt.plot(test['Oil_index'], label='Real_Index', lw = 2)\n",
    "plt.plot(predictions, 'r+', label='Prediction_Index', lw = 2)\n",
    "plt.title('Monthly Oil Index Prediction _ SARIMA(0,1,1)', fontsize=14)\n",
    "plt.xlabel('Date', fontsize=14)\n",
    "plt.legend()\n",
    "plt.figure()\n",
    "\n",
    "plt.show()"
   ]
  },
  {
   "cell_type": "code",
   "execution_count": 18,
   "id": "d60fb1ba",
   "metadata": {},
   "outputs": [
    {
     "name": "stdout",
     "output_type": "stream",
     "text": [
      "SARIMA(0,1,1) Predictions MSE Error: 2512.787137\n",
      "SARIMA(0,1,1) RMSE Error: 50.12770828\n"
     ]
    }
   ],
   "source": [
    "error = mean_squared_error(test['Oil_index'], predictions)\n",
    "print(f'SARIMA(0,1,1) Predictions MSE Error: {error:11.10}')\n",
    "\n",
    "error = rmse(test['Oil_index'], predictions)\n",
    "print(f'SARIMA(0,1,1) RMSE Error: {error:11.10}')"
   ]
  },
  {
   "cell_type": "markdown",
   "id": "8b377c93",
   "metadata": {},
   "source": [
    "<a name='ex-4'></a>\n",
    "### 6 - 2 Time-Series Prediction Using RNN - LSTM"
   ]
  },
  {
   "cell_type": "code",
   "execution_count": 19,
   "id": "eb8c631a",
   "metadata": {},
   "outputs": [],
   "source": [
    "scaler = MinMaxScaler()\n",
    "df = df[['Oil_index']]\n",
    "train = df[ :108]\n",
    "test = df[108: ]"
   ]
  },
  {
   "cell_type": "code",
   "execution_count": 20,
   "id": "4023a6d8",
   "metadata": {},
   "outputs": [],
   "source": [
    "scaler.fit(train)\n",
    "scaled_train = scaler.transform(train)\n",
    "scaled_test = scaler.transform(test)"
   ]
  },
  {
   "cell_type": "markdown",
   "id": "09bec64e",
   "metadata": {},
   "source": [
    "#### Time Series Generator;"
   ]
  },
  {
   "cell_type": "code",
   "execution_count": 21,
   "id": "1227ecbd",
   "metadata": {},
   "outputs": [],
   "source": [
    "# define generator\n",
    "n_input = 12\n",
    "n_features = 1\n",
    "generator = TimeseriesGenerator(scaled_train, scaled_train, length=n_input, batch_size=1)"
   ]
  },
  {
   "cell_type": "markdown",
   "id": "ba35e524",
   "metadata": {},
   "source": [
    "#### Create The Model;"
   ]
  },
  {
   "cell_type": "code",
   "execution_count": 22,
   "id": "9a12eb4b",
   "metadata": {},
   "outputs": [
    {
     "name": "stdout",
     "output_type": "stream",
     "text": [
      "Model: \"sequential\"\n",
      "_________________________________________________________________\n",
      " Layer (type)                Output Shape              Param #   \n",
      "=================================================================\n",
      " lstm (LSTM)                 (None, 12, 128)           66560     \n",
      "                                                                 \n",
      " lstm_1 (LSTM)               (None, 256)               394240    \n",
      "                                                                 \n",
      " dense (Dense)               (None, 1)                 257       \n",
      "                                                                 \n",
      "=================================================================\n",
      "Total params: 461,057\n",
      "Trainable params: 461,057\n",
      "Non-trainable params: 0\n",
      "_________________________________________________________________\n"
     ]
    }
   ],
   "source": [
    "# define model\n",
    "model = Sequential()\n",
    "model.add(LSTM(128, input_shape=(n_input, n_features), return_sequences=True))\n",
    "model.add(LSTM(256))\n",
    "model.add(Dense(1))\n",
    "model.compile(optimizer='adam', loss='mse')\n",
    "model.summary()"
   ]
  },
  {
   "cell_type": "code",
   "execution_count": 23,
   "id": "9cae30b9",
   "metadata": {
    "scrolled": true
   },
   "outputs": [
    {
     "name": "stdout",
     "output_type": "stream",
     "text": [
      "Epoch 1/50\n",
      "96/96 [==============================] - 4s 19ms/step - loss: 0.0383\n",
      "Epoch 2/50\n",
      "96/96 [==============================] - 2s 19ms/step - loss: 0.0181\n",
      "Epoch 3/50\n",
      "96/96 [==============================] - 2s 18ms/step - loss: 0.0171\n",
      "Epoch 4/50\n",
      "96/96 [==============================] - 2s 19ms/step - loss: 0.0113\n",
      "Epoch 5/50\n",
      "96/96 [==============================] - 2s 18ms/step - loss: 0.0122\n",
      "Epoch 6/50\n",
      "96/96 [==============================] - 2s 18ms/step - loss: 0.0115\n",
      "Epoch 7/50\n",
      "96/96 [==============================] - 2s 18ms/step - loss: 0.0100\n",
      "Epoch 8/50\n",
      "96/96 [==============================] - 2s 18ms/step - loss: 0.0072\n",
      "Epoch 9/50\n",
      "96/96 [==============================] - 2s 18ms/step - loss: 0.0060\n",
      "Epoch 10/50\n",
      "96/96 [==============================] - 2s 18ms/step - loss: 0.0060\n",
      "Epoch 11/50\n",
      "96/96 [==============================] - 2s 18ms/step - loss: 0.0053\n",
      "Epoch 12/50\n",
      "96/96 [==============================] - 2s 18ms/step - loss: 0.0042\n",
      "Epoch 13/50\n",
      "96/96 [==============================] - 2s 18ms/step - loss: 0.0041\n",
      "Epoch 14/50\n",
      "96/96 [==============================] - 2s 18ms/step - loss: 0.0041\n",
      "Epoch 15/50\n",
      "96/96 [==============================] - 2s 19ms/step - loss: 0.0056\n",
      "Epoch 16/50\n",
      "96/96 [==============================] - 2s 18ms/step - loss: 0.0037\n",
      "Epoch 17/50\n",
      "96/96 [==============================] - 2s 18ms/step - loss: 0.0039\n",
      "Epoch 18/50\n",
      "96/96 [==============================] - 2s 19ms/step - loss: 0.0037\n",
      "Epoch 19/50\n",
      "96/96 [==============================] - 2s 19ms/step - loss: 0.0041\n",
      "Epoch 20/50\n",
      "96/96 [==============================] - 2s 18ms/step - loss: 0.0039\n",
      "Epoch 21/50\n",
      "96/96 [==============================] - 2s 18ms/step - loss: 0.0039\n",
      "Epoch 22/50\n",
      "96/96 [==============================] - 2s 18ms/step - loss: 0.0036\n",
      "Epoch 23/50\n",
      "96/96 [==============================] - 2s 18ms/step - loss: 0.0050\n",
      "Epoch 24/50\n",
      "96/96 [==============================] - 2s 19ms/step - loss: 0.0036\n",
      "Epoch 25/50\n",
      "96/96 [==============================] - 2s 19ms/step - loss: 0.0040\n",
      "Epoch 26/50\n",
      "96/96 [==============================] - 2s 20ms/step - loss: 0.0033\n",
      "Epoch 27/50\n",
      "96/96 [==============================] - 2s 19ms/step - loss: 0.0048\n",
      "Epoch 28/50\n",
      "96/96 [==============================] - 2s 18ms/step - loss: 0.0049\n",
      "Epoch 29/50\n",
      "96/96 [==============================] - 2s 19ms/step - loss: 0.0043\n",
      "Epoch 30/50\n",
      "96/96 [==============================] - 2s 19ms/step - loss: 0.0051\n",
      "Epoch 31/50\n",
      "96/96 [==============================] - 2s 18ms/step - loss: 0.0041\n",
      "Epoch 32/50\n",
      "96/96 [==============================] - 2s 19ms/step - loss: 0.0041\n",
      "Epoch 33/50\n",
      "96/96 [==============================] - 2s 19ms/step - loss: 0.0040\n",
      "Epoch 34/50\n",
      "96/96 [==============================] - 2s 18ms/step - loss: 0.0035\n",
      "Epoch 35/50\n",
      "96/96 [==============================] - 2s 18ms/step - loss: 0.0034\n",
      "Epoch 36/50\n",
      "96/96 [==============================] - 2s 18ms/step - loss: 0.0035\n",
      "Epoch 37/50\n",
      "96/96 [==============================] - 2s 18ms/step - loss: 0.0040\n",
      "Epoch 38/50\n",
      "96/96 [==============================] - 2s 18ms/step - loss: 0.0036\n",
      "Epoch 39/50\n",
      "96/96 [==============================] - 2s 18ms/step - loss: 0.0048\n",
      "Epoch 40/50\n",
      "96/96 [==============================] - 2s 18ms/step - loss: 0.0041\n",
      "Epoch 41/50\n",
      "96/96 [==============================] - 2s 18ms/step - loss: 0.0041\n",
      "Epoch 42/50\n",
      "96/96 [==============================] - 2s 18ms/step - loss: 0.0048\n",
      "Epoch 43/50\n",
      "96/96 [==============================] - 2s 18ms/step - loss: 0.0039\n",
      "Epoch 44/50\n",
      "96/96 [==============================] - 2s 18ms/step - loss: 0.0036\n",
      "Epoch 45/50\n",
      "96/96 [==============================] - 2s 18ms/step - loss: 0.0034\n",
      "Epoch 46/50\n",
      "96/96 [==============================] - 2s 18ms/step - loss: 0.0036\n",
      "Epoch 47/50\n",
      "96/96 [==============================] - 2s 18ms/step - loss: 0.0043\n",
      "Epoch 48/50\n",
      "96/96 [==============================] - 2s 18ms/step - loss: 0.0047\n",
      "Epoch 49/50\n",
      "96/96 [==============================] - 2s 18ms/step - loss: 0.0037\n",
      "Epoch 50/50\n",
      "96/96 [==============================] - 2s 18ms/step - loss: 0.0039\n"
     ]
    }
   ],
   "source": [
    "history = model.fit_generator(generator,\n",
    "                              epochs=50,\n",
    "                              verbose = 1)"
   ]
  },
  {
   "cell_type": "code",
   "execution_count": 24,
   "id": "4a69be59",
   "metadata": {},
   "outputs": [
    {
     "data": {
      "text/plain": [
       "[<matplotlib.lines.Line2D at 0x17c7f38cf10>]"
      ]
     },
     "execution_count": 24,
     "metadata": {},
     "output_type": "execute_result"
    },
    {
     "data": {
      "image/png": "[encoded data removed]",
      "text/plain": [
       "<Figure size 432x288 with 1 Axes>"
      ]
     },
     "metadata": {
      "needs_background": "light"
     },
     "output_type": "display_data"
    }
   ],
   "source": [
    "loss_per_epoch = model.history.history['loss']\n",
    "plt.plot(range(len(loss_per_epoch)),loss_per_epoch, color = '#db0000', lw = 2)"
   ]
  },
  {
   "cell_type": "code",
   "execution_count": 25,
   "id": "ca60d7bf",
   "metadata": {},
   "outputs": [],
   "source": [
    "# model.save('my_rnn_model.h5')\n",
    "# model = tf.keras.models.load_model('my_rnn_model.h5')"
   ]
  },
  {
   "cell_type": "code",
   "execution_count": 26,
   "id": "a6b7bbc4",
   "metadata": {},
   "outputs": [],
   "source": [
    "test_predictions = []\n",
    "\n",
    "first_eval_batch = scaled_train[-n_input:]\n",
    "current_batch = first_eval_batch.reshape((1, n_input, n_features))\n",
    "\n",
    "for i in range(len(test)):\n",
    "    \n",
    "    # get prediction 1 time stamp ahead ([0] is for grabbing just the number instead of [array])\n",
    "    current_pred = model.predict(current_batch)[0]\n",
    "    \n",
    "    # store prediction\n",
    "    test_predictions.append(current_pred) \n",
    "    \n",
    "    # update batch to now include prediction and drop first value\n",
    "    current_batch = np.append(current_batch[:,1:,:],[[current_pred]],axis=1)\n",
    "\n",
    "true_predictions = scaler.inverse_transform(test_predictions)\n",
    "test['Predictions'] = true_predictions\n",
    "df = df.merge(test, how='outer', on='Oil_index')"
   ]
  },
  {
   "cell_type": "code",
   "execution_count": 27,
   "id": "f1a05002",
   "metadata": {},
   "outputs": [
    {
     "data": {
      "image/png": "[encoded data removed]",
      "text/plain": [
       "<Figure size 1152x432 with 1 Axes>"
      ]
     },
     "metadata": {
      "needs_background": "light"
     },
     "output_type": "display_data"
    },
    {
     "data": {
      "text/plain": [
       "<Figure size 432x288 with 0 Axes>"
      ]
     },
     "metadata": {},
     "output_type": "display_data"
    }
   ],
   "source": [
    "plt.figure(figsize = (16,6))\n",
    "\n",
    "mpl.rcParams['axes.spines.right'] = False\n",
    "mpl.rcParams['axes.spines.top'] = False\n",
    "\n",
    "plt.plot(df, lw = 2)\n",
    "plt.title('Monthly Oil Index', fontsize=16)\n",
    "plt.xlabel('Release Year', fontsize=14)\n",
    "plt.grid(True)\n",
    "plt.figure()\n",
    "plt.show()"
   ]
  },
  {
   "cell_type": "markdown",
   "id": "0556ac85",
   "metadata": {},
   "source": [
    "<a name='ex-5'></a>\n",
    "### 6 - 3 Prophet Model"
   ]
  },
  {
   "cell_type": "code",
   "execution_count": 28,
   "id": "2b41f5b0",
   "metadata": {},
   "outputs": [
    {
     "data": {
      "text/html": [
       "<div>\n",
       "<style scoped>\n",
       "    .dataframe tbody tr th:only-of-type {\n",
       "        vertical-align: middle;\n",
       "    }\n",
       "\n",
       "    .dataframe tbody tr th {\n",
       "        vertical-align: top;\n",
       "    }\n",
       "\n",
       "    .dataframe thead th {\n",
       "        text-align: right;\n",
       "    }\n",
       "</style>\n",
       "<table border=\"1\" class=\"dataframe\">\n",
       "  <thead>\n",
       "    <tr style=\"text-align: right;\">\n",
       "      <th></th>\n",
       "      <th>ds</th>\n",
       "      <th>y</th>\n",
       "    </tr>\n",
       "  </thead>\n",
       "  <tbody>\n",
       "    <tr>\n",
       "      <th>267</th>\n",
       "      <td>2012-01-01</td>\n",
       "      <td>225.891156</td>\n",
       "    </tr>\n",
       "    <tr>\n",
       "      <th>268</th>\n",
       "      <td>2012-02-01</td>\n",
       "      <td>236.120545</td>\n",
       "    </tr>\n",
       "    <tr>\n",
       "      <th>269</th>\n",
       "      <td>2012-03-01</td>\n",
       "      <td>248.161237</td>\n",
       "    </tr>\n",
       "    <tr>\n",
       "      <th>270</th>\n",
       "      <td>2012-04-01</td>\n",
       "      <td>239.280530</td>\n",
       "    </tr>\n",
       "    <tr>\n",
       "      <th>271</th>\n",
       "      <td>2012-05-01</td>\n",
       "      <td>220.830698</td>\n",
       "    </tr>\n",
       "    <tr>\n",
       "      <th>...</th>\n",
       "      <td>...</td>\n",
       "      <td>...</td>\n",
       "    </tr>\n",
       "    <tr>\n",
       "      <th>383</th>\n",
       "      <td>2021-09-01</td>\n",
       "      <td>166.180587</td>\n",
       "    </tr>\n",
       "    <tr>\n",
       "      <th>384</th>\n",
       "      <td>2021-10-01</td>\n",
       "      <td>188.475001</td>\n",
       "    </tr>\n",
       "    <tr>\n",
       "      <th>385</th>\n",
       "      <td>2021-11-01</td>\n",
       "      <td>184.639030</td>\n",
       "    </tr>\n",
       "    <tr>\n",
       "      <th>386</th>\n",
       "      <td>2021-12-01</td>\n",
       "      <td>169.409225</td>\n",
       "    </tr>\n",
       "    <tr>\n",
       "      <th>387</th>\n",
       "      <td>2022-01-01</td>\n",
       "      <td>194.548961</td>\n",
       "    </tr>\n",
       "  </tbody>\n",
       "</table>\n",
       "<p>121 rows × 2 columns</p>\n",
       "</div>"
      ],
      "text/plain": [
       "            ds           y\n",
       "267 2012-01-01  225.891156\n",
       "268 2012-02-01  236.120545\n",
       "269 2012-03-01  248.161237\n",
       "270 2012-04-01  239.280530\n",
       "271 2012-05-01  220.830698\n",
       "..         ...         ...\n",
       "383 2021-09-01  166.180587\n",
       "384 2021-10-01  188.475001\n",
       "385 2021-11-01  184.639030\n",
       "386 2021-12-01  169.409225\n",
       "387 2022-01-01  194.548961\n",
       "\n",
       "[121 rows x 2 columns]"
      ]
     },
     "execution_count": 28,
     "metadata": {},
     "output_type": "execute_result"
    }
   ],
   "source": [
    "df = db[[\"Commodity\", \"POILAPSP\"]].iloc[-121:]\n",
    "df['Oil_index'] = df['POILAPSP'].astype('float')\n",
    "df['Commodity'] = df['Commodity'].str.replace(\"M\", \"-\") + '-1'\n",
    "df['Date'] = pd.to_datetime(df['Commodity'])\n",
    "df = df[['Date', 'Oil_index']]\n",
    "df.columns = ['ds','y']\n",
    "df"
   ]
  },
  {
   "cell_type": "code",
   "execution_count": 29,
   "id": "f8c662f9",
   "metadata": {},
   "outputs": [],
   "source": [
    "train = df.iloc[:108]\n",
    "test = df.iloc[108:]"
   ]
  },
  {
   "cell_type": "code",
   "execution_count": 30,
   "id": "8cfbb38a",
   "metadata": {},
   "outputs": [
    {
     "name": "stderr",
     "output_type": "stream",
     "text": [
      "INFO:fbprophet:Disabling weekly seasonality. Run prophet with weekly_seasonality=True to override this.\n",
      "INFO:fbprophet:Disabling daily seasonality. Run prophet with daily_seasonality=True to override this.\n"
     ]
    }
   ],
   "source": [
    "model_pr = Prophet()\n",
    "model_pr.fit(train)\n",
    "future = model_pr.make_future_dataframe(periods=12, freq='MS')\n",
    "forcast = model_pr.predict(future)"
   ]
  },
  {
   "cell_type": "code",
   "execution_count": 31,
   "id": "fb42b66a",
   "metadata": {},
   "outputs": [
    {
     "data": {
      "text/html": [
       "<div>\n",
       "<style scoped>\n",
       "    .dataframe tbody tr th:only-of-type {\n",
       "        vertical-align: middle;\n",
       "    }\n",
       "\n",
       "    .dataframe tbody tr th {\n",
       "        vertical-align: top;\n",
       "    }\n",
       "\n",
       "    .dataframe thead th {\n",
       "        text-align: right;\n",
       "    }\n",
       "</style>\n",
       "<table border=\"1\" class=\"dataframe\">\n",
       "  <thead>\n",
       "    <tr style=\"text-align: right;\">\n",
       "      <th></th>\n",
       "      <th>ds</th>\n",
       "      <th>trend</th>\n",
       "      <th>yhat_lower</th>\n",
       "      <th>yhat_upper</th>\n",
       "      <th>trend_lower</th>\n",
       "      <th>trend_upper</th>\n",
       "      <th>additive_terms</th>\n",
       "      <th>additive_terms_lower</th>\n",
       "      <th>additive_terms_upper</th>\n",
       "      <th>yearly</th>\n",
       "      <th>yearly_lower</th>\n",
       "      <th>yearly_upper</th>\n",
       "      <th>multiplicative_terms</th>\n",
       "      <th>multiplicative_terms_lower</th>\n",
       "      <th>multiplicative_terms_upper</th>\n",
       "      <th>yhat</th>\n",
       "    </tr>\n",
       "  </thead>\n",
       "  <tbody>\n",
       "    <tr>\n",
       "      <th>115</th>\n",
       "      <td>2021-08-01</td>\n",
       "      <td>110.224059</td>\n",
       "      <td>77.472623</td>\n",
       "      <td>152.604970</td>\n",
       "      <td>109.466661</td>\n",
       "      <td>110.815622</td>\n",
       "      <td>4.166115</td>\n",
       "      <td>4.166115</td>\n",
       "      <td>4.166115</td>\n",
       "      <td>4.166115</td>\n",
       "      <td>4.166115</td>\n",
       "      <td>4.166115</td>\n",
       "      <td>0.0</td>\n",
       "      <td>0.0</td>\n",
       "      <td>0.0</td>\n",
       "      <td>114.390174</td>\n",
       "    </tr>\n",
       "    <tr>\n",
       "      <th>116</th>\n",
       "      <td>2021-09-01</td>\n",
       "      <td>109.872949</td>\n",
       "      <td>79.837842</td>\n",
       "      <td>155.855711</td>\n",
       "      <td>108.936984</td>\n",
       "      <td>110.627889</td>\n",
       "      <td>5.930957</td>\n",
       "      <td>5.930957</td>\n",
       "      <td>5.930957</td>\n",
       "      <td>5.930957</td>\n",
       "      <td>5.930957</td>\n",
       "      <td>5.930957</td>\n",
       "      <td>0.0</td>\n",
       "      <td>0.0</td>\n",
       "      <td>0.0</td>\n",
       "      <td>115.803906</td>\n",
       "    </tr>\n",
       "    <tr>\n",
       "      <th>117</th>\n",
       "      <td>2021-10-01</td>\n",
       "      <td>109.533164</td>\n",
       "      <td>79.445845</td>\n",
       "      <td>150.637902</td>\n",
       "      <td>108.449671</td>\n",
       "      <td>110.417230</td>\n",
       "      <td>4.423759</td>\n",
       "      <td>4.423759</td>\n",
       "      <td>4.423759</td>\n",
       "      <td>4.423759</td>\n",
       "      <td>4.423759</td>\n",
       "      <td>4.423759</td>\n",
       "      <td>0.0</td>\n",
       "      <td>0.0</td>\n",
       "      <td>0.0</td>\n",
       "      <td>113.956923</td>\n",
       "    </tr>\n",
       "    <tr>\n",
       "      <th>118</th>\n",
       "      <td>2021-11-01</td>\n",
       "      <td>109.182053</td>\n",
       "      <td>72.708723</td>\n",
       "      <td>147.996958</td>\n",
       "      <td>107.923720</td>\n",
       "      <td>110.216870</td>\n",
       "      <td>0.076527</td>\n",
       "      <td>0.076527</td>\n",
       "      <td>0.076527</td>\n",
       "      <td>0.076527</td>\n",
       "      <td>0.076527</td>\n",
       "      <td>0.076527</td>\n",
       "      <td>0.0</td>\n",
       "      <td>0.0</td>\n",
       "      <td>0.0</td>\n",
       "      <td>109.258580</td>\n",
       "    </tr>\n",
       "    <tr>\n",
       "      <th>119</th>\n",
       "      <td>2021-12-01</td>\n",
       "      <td>108.842269</td>\n",
       "      <td>69.804395</td>\n",
       "      <td>144.591003</td>\n",
       "      <td>107.426932</td>\n",
       "      <td>110.041133</td>\n",
       "      <td>-1.041224</td>\n",
       "      <td>-1.041224</td>\n",
       "      <td>-1.041224</td>\n",
       "      <td>-1.041224</td>\n",
       "      <td>-1.041224</td>\n",
       "      <td>-1.041224</td>\n",
       "      <td>0.0</td>\n",
       "      <td>0.0</td>\n",
       "      <td>0.0</td>\n",
       "      <td>107.801045</td>\n",
       "    </tr>\n",
       "  </tbody>\n",
       "</table>\n",
       "</div>"
      ],
      "text/plain": [
       "            ds       trend  yhat_lower  yhat_upper  trend_lower  trend_upper  \\\n",
       "115 2021-08-01  110.224059   77.472623  152.604970   109.466661   110.815622   \n",
       "116 2021-09-01  109.872949   79.837842  155.855711   108.936984   110.627889   \n",
       "117 2021-10-01  109.533164   79.445845  150.637902   108.449671   110.417230   \n",
       "118 2021-11-01  109.182053   72.708723  147.996958   107.923720   110.216870   \n",
       "119 2021-12-01  108.842269   69.804395  144.591003   107.426932   110.041133   \n",
       "\n",
       "     additive_terms  additive_terms_lower  additive_terms_upper    yearly  \\\n",
       "115        4.166115              4.166115              4.166115  4.166115   \n",
       "116        5.930957              5.930957              5.930957  5.930957   \n",
       "117        4.423759              4.423759              4.423759  4.423759   \n",
       "118        0.076527              0.076527              0.076527  0.076527   \n",
       "119       -1.041224             -1.041224             -1.041224 -1.041224   \n",
       "\n",
       "     yearly_lower  yearly_upper  multiplicative_terms  \\\n",
       "115      4.166115      4.166115                   0.0   \n",
       "116      5.930957      5.930957                   0.0   \n",
       "117      4.423759      4.423759                   0.0   \n",
       "118      0.076527      0.076527                   0.0   \n",
       "119     -1.041224     -1.041224                   0.0   \n",
       "\n",
       "     multiplicative_terms_lower  multiplicative_terms_upper        yhat  \n",
       "115                         0.0                         0.0  114.390174  \n",
       "116                         0.0                         0.0  115.803906  \n",
       "117                         0.0                         0.0  113.956923  \n",
       "118                         0.0                         0.0  109.258580  \n",
       "119                         0.0                         0.0  107.801045  "
      ]
     },
     "execution_count": 31,
     "metadata": {},
     "output_type": "execute_result"
    }
   ],
   "source": [
    "forcast.tail()"
   ]
  },
  {
   "cell_type": "code",
   "execution_count": 32,
   "id": "431d87cc",
   "metadata": {},
   "outputs": [
    {
     "data": {
      "text/html": [
       "<div>\n",
       "<style scoped>\n",
       "    .dataframe tbody tr th:only-of-type {\n",
       "        vertical-align: middle;\n",
       "    }\n",
       "\n",
       "    .dataframe tbody tr th {\n",
       "        vertical-align: top;\n",
       "    }\n",
       "\n",
       "    .dataframe thead th {\n",
       "        text-align: right;\n",
       "    }\n",
       "</style>\n",
       "<table border=\"1\" class=\"dataframe\">\n",
       "  <thead>\n",
       "    <tr style=\"text-align: right;\">\n",
       "      <th></th>\n",
       "      <th>ds</th>\n",
       "      <th>y</th>\n",
       "    </tr>\n",
       "  </thead>\n",
       "  <tbody>\n",
       "    <tr>\n",
       "      <th>383</th>\n",
       "      <td>2021-09-01</td>\n",
       "      <td>166.180587</td>\n",
       "    </tr>\n",
       "    <tr>\n",
       "      <th>384</th>\n",
       "      <td>2021-10-01</td>\n",
       "      <td>188.475001</td>\n",
       "    </tr>\n",
       "    <tr>\n",
       "      <th>385</th>\n",
       "      <td>2021-11-01</td>\n",
       "      <td>184.639030</td>\n",
       "    </tr>\n",
       "    <tr>\n",
       "      <th>386</th>\n",
       "      <td>2021-12-01</td>\n",
       "      <td>169.409225</td>\n",
       "    </tr>\n",
       "    <tr>\n",
       "      <th>387</th>\n",
       "      <td>2022-01-01</td>\n",
       "      <td>194.548961</td>\n",
       "    </tr>\n",
       "  </tbody>\n",
       "</table>\n",
       "</div>"
      ],
      "text/plain": [
       "            ds           y\n",
       "383 2021-09-01  166.180587\n",
       "384 2021-10-01  188.475001\n",
       "385 2021-11-01  184.639030\n",
       "386 2021-12-01  169.409225\n",
       "387 2022-01-01  194.548961"
      ]
     },
     "execution_count": 32,
     "metadata": {},
     "output_type": "execute_result"
    }
   ],
   "source": [
    "test.tail()"
   ]
  },
  {
   "cell_type": "code",
   "execution_count": 33,
   "id": "f2241f88",
   "metadata": {},
   "outputs": [
    {
     "data": {
      "image/png": "[encoded data removed]",
      "text/plain": [
       "<Figure size 720x432 with 1 Axes>"
      ]
     },
     "metadata": {},
     "output_type": "display_data"
    }
   ],
   "source": [
    "model_pr.plot(forcast);"
   ]
  },
  {
   "cell_type": "code",
   "execution_count": 46,
   "id": "1a2097cc",
   "metadata": {},
   "outputs": [
    {
     "data": {
      "text/plain": [
       "<AxesSubplot:xlabel='ds'>"
      ]
     },
     "execution_count": 46,
     "metadata": {},
     "output_type": "execute_result"
    },
    {
     "data": {
      "image/png": "[encoded data removed]",
      "text/plain": [
       "<Figure size 576x432 with 1 Axes>"
      ]
     },
     "metadata": {
      "needs_background": "light"
     },
     "output_type": "display_data"
    }
   ],
   "source": [
    "ax = forcast.plot(x='ds',y='yhat', label='Predictions',legend=True,figsize=(8,6))\n",
    "\n",
    "test.plot(x='ds',y='y',label='True Index',legend=True,ax=ax,xlim=('2021-01-01','2022-01-01'), lw = 2)"
   ]
  }
 ],
 "metadata": {
  "kernelspec": {
   "display_name": "Python 3",
   "language": "python",
   "name": "python3"
  },
  "language_info": {
   "codemirror_mode": {
    "name": "ipython",
    "version": 3
   },
   "file_extension": ".py",
   "mimetype": "text/x-python",
   "name": "python",
   "nbconvert_exporter": "python",
   "pygments_lexer": "ipython3",
   "version": "3.8.8"
  }
 },
 "nbformat": 4,
 "nbformat_minor": 5
}
